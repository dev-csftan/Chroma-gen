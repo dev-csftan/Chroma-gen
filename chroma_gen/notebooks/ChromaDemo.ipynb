{
 "cells": [
  {
   "cell_type": "markdown",
   "metadata": {
    "id": "zb9d5N92iMz2"
   },
   "source": [
    "# Chroma quickstart\n",
    "\n",
    "First, run the [setup cell](#setup) below. Then, run [this cell](#unconditional-chain) to get a Chroma sample. Further examples are below."
   ]
  },
  {
   "cell_type": "code",
   "execution_count": 1,
   "metadata": {
    "cellView": "form",
    "id": "KaT878cbeOQm"
   },
   "outputs": [
    {
     "data": {
      "application/vnd.jupyter.widget-view+json": {
       "model_id": "b29b3e1016194e6c89b790856fd6feeb",
       "version_major": 2,
       "version_minor": 0
      },
      "text/plain": []
     },
     "metadata": {},
     "output_type": "display_data"
    }
   ],
   "source": [
    "# @title Setup\n",
    "\n",
    "# @markdown [Get your API key here](https://chroma-weights.generatebiomedicines.com) and enter it below before running.\n",
    "\n",
    "\n",
    "import os\n",
    "\n",
    "os.environ[\"CUBLAS_WORKSPACE_CONFIG\"] = \":4096:8\"\n",
    "import contextlib\n",
    "\n",
    "api_key = \"2cdade6d058b4fd1b85fa5badb501312\"  # @param {type:\"string\"}\n",
    "\n",
    "\n",
    "import torch\n",
    "\n",
    "\n",
    "import warnings\n",
    "from tqdm import tqdm, TqdmExperimentalWarning\n",
    "\n",
    "warnings.filterwarnings(\"ignore\", category=TqdmExperimentalWarning)\n",
    "from functools import partialmethod\n",
    "\n",
    "tqdm.__init__ = partialmethod(tqdm.__init__, leave=False)\n",
    "\n",
    "import ipywidgets as widgets\n",
    "\n",
    "\n",
    "def create_button(filename, description=\"\"):\n",
    "    button = widgets.Button(description=description)\n",
    "    display(button)\n",
    "\n",
    "    def on_button_click(b):\n",
    "        files.download(filename)\n",
    "\n",
    "    button.on_click(on_button_click)\n",
    "\n",
    "\n",
    "def render(protein, trajectories, output=\"protein.cif\"):\n",
    "    display(protein)\n",
    "    print(protein)\n",
    "    protein.to_CIF(output)\n",
    "    traj_output = output.replace(\".cif\", \"_trajectory.cif\")\n",
    "    trajectories[\"trajectory\"].to_CIF(traj_output)\n",
    "    create_button(output, description=\"Download sample\")\n",
    "    create_button(traj_output, description=\"Download trajectory\")\n",
    "\n",
    "\n",
    "import locale\n",
    "\n",
    "locale.getpreferredencoding = lambda: \"UTF-8\"\n",
    "\n",
    "from chroma import Chroma, Protein, conditioners\n",
    "from chroma.models import graph_classifier, procap\n",
    "from chroma.utility.api import register_key\n",
    "from chroma.utility.chroma import letter_to_point_cloud, plane_split_protein\n",
    "\n",
    "register_key(api_key)\n",
    "torch.set_default_dtype(torch.float64)\n",
    "with contextlib.redirect_stdout(None):\n",
    "    chroma = Chroma(device='cuda')\n",
    "\n",
    "device = \"cuda\""
   ]
  },
  {
   "cell_type": "code",
   "execution_count": 2,
   "metadata": {
    "id": "sfNODIk5BZEH"
   },
   "outputs": [
    {
     "ename": "RuntimeError",
     "evalue": "expected scalar type Float but found Double",
     "output_type": "error",
     "traceback": [
      "\u001b[0;31m---------------------------------------------------------------------------\u001b[0m",
      "\u001b[0;31mRuntimeError\u001b[0m                              Traceback (most recent call last)",
      "Cell \u001b[0;32mIn[2], line 8\u001b[0m\n\u001b[1;32m      1\u001b[0m \u001b[38;5;66;03m# @title Get a protein! <a name=\"unconditional-chain\"></a> {display-mode: \"form\"}\u001b[39;00m\n\u001b[1;32m      2\u001b[0m \n\u001b[1;32m      3\u001b[0m \u001b[38;5;66;03m# @markdown Specify the desired length. Chroma will output a fully designed single chain protein.\u001b[39;00m\n\u001b[1;32m      4\u001b[0m \u001b[38;5;66;03m# @markdown As with all examples in this notebook, the trajectory can also be downloaded.\u001b[39;00m\n\u001b[1;32m      6\u001b[0m length \u001b[38;5;241m=\u001b[39m \u001b[38;5;241m160\u001b[39m  \u001b[38;5;66;03m# @param {type:\"slider\", min:50, max:250, step:10}\u001b[39;00m\n\u001b[0;32m----> 8\u001b[0m protein, trajectories \u001b[38;5;241m=\u001b[39m \u001b[43mchroma\u001b[49m\u001b[38;5;241;43m.\u001b[39;49m\u001b[43msample\u001b[49m\u001b[43m(\u001b[49m\n\u001b[1;32m      9\u001b[0m \u001b[43m    \u001b[49m\u001b[43mchain_lengths\u001b[49m\u001b[38;5;241;43m=\u001b[39;49m\u001b[43m[\u001b[49m\u001b[43mlength\u001b[49m\u001b[43m]\u001b[49m\u001b[43m,\u001b[49m\u001b[43m \u001b[49m\u001b[43msteps\u001b[49m\u001b[38;5;241;43m=\u001b[39;49m\u001b[38;5;241;43m200\u001b[39;49m\u001b[43m,\u001b[49m\u001b[43m \u001b[49m\u001b[43mfull_output\u001b[49m\u001b[38;5;241;43m=\u001b[39;49m\u001b[38;5;28;43;01mTrue\u001b[39;49;00m\n\u001b[1;32m     10\u001b[0m \u001b[43m)\u001b[49m\n\u001b[1;32m     11\u001b[0m render(protein, trajectories, output\u001b[38;5;241m=\u001b[39m\u001b[38;5;124m\"\u001b[39m\u001b[38;5;124mprotein.cif\u001b[39m\u001b[38;5;124m\"\u001b[39m)\n",
      "File \u001b[0;32m~/anaconda3/envs/mlfold/lib/python3.8/site-packages/chroma/models/chroma.py:229\u001b[0m, in \u001b[0;36mChroma.sample\u001b[0;34m(self, samples, steps, chain_lengths, tspan, protein_init, conditioner, langevin_factor, langevin_isothermal, inverse_temperature, initialize_noise, integrate_func, sde_func, trajectory_length, full_output, design_ban_S, design_method, design_selection, design_t, temperature_S, temperature_chi, top_p_S, regularization, potts_mcmc_depth, potts_proposal, potts_symmetry_order, verbose)\u001b[0m\n\u001b[1;32m    226\u001b[0m design_kwargs \u001b[38;5;241m=\u001b[39m {k: input_args[k] \u001b[38;5;28;01mfor\u001b[39;00m k \u001b[38;5;129;01min\u001b[39;00m input_args \u001b[38;5;28;01mif\u001b[39;00m k \u001b[38;5;129;01min\u001b[39;00m design_keys}\n\u001b[1;32m    228\u001b[0m \u001b[38;5;66;03m# Perform Sampling\u001b[39;00m\n\u001b[0;32m--> 229\u001b[0m sample_output \u001b[38;5;241m=\u001b[39m \u001b[38;5;28;43mself\u001b[39;49m\u001b[38;5;241;43m.\u001b[39;49m\u001b[43m_sample\u001b[49m\u001b[43m(\u001b[49m\u001b[38;5;241;43m*\u001b[39;49m\u001b[38;5;241;43m*\u001b[39;49m\u001b[43mbackbone_kwargs\u001b[49m\u001b[43m)\u001b[49m\n\u001b[1;32m    231\u001b[0m \u001b[38;5;28;01mif\u001b[39;00m full_output:\n\u001b[1;32m    232\u001b[0m     protein_sample, output_dictionary \u001b[38;5;241m=\u001b[39m sample_output\n",
      "File \u001b[0;32m~/anaconda3/envs/mlfold/lib/python3.8/site-packages/chroma/models/chroma.py:353\u001b[0m, in \u001b[0;36mChroma._sample\u001b[0;34m(self, samples, steps, chain_lengths, tspan, protein_init, conditioner, langevin_factor, langevin_isothermal, inverse_temperature, initialize_noise, integrate_func, sde_func, trajectory_length, full_output, **kwargs)\u001b[0m\n\u001b[1;32m    351\u001b[0m     X_unc, C_unc, S_unc \u001b[38;5;241m=\u001b[39m protein_init\u001b[38;5;241m.\u001b[39mto_XCS()\n\u001b[1;32m    352\u001b[0m \u001b[38;5;28;01melse\u001b[39;00m:\n\u001b[0;32m--> 353\u001b[0m     X_unc, C_unc, S_unc \u001b[38;5;241m=\u001b[39m \u001b[38;5;28;43mself\u001b[39;49m\u001b[38;5;241;43m.\u001b[39;49m\u001b[43m_init_backbones\u001b[49m\u001b[43m(\u001b[49m\u001b[43msamples\u001b[49m\u001b[43m,\u001b[49m\u001b[43m \u001b[49m\u001b[43mchain_lengths\u001b[49m\u001b[43m)\u001b[49m\n\u001b[1;32m    355\u001b[0m outs \u001b[38;5;241m=\u001b[39m \u001b[38;5;28mself\u001b[39m\u001b[38;5;241m.\u001b[39mbackbone_network\u001b[38;5;241m.\u001b[39msample_sde(\n\u001b[1;32m    356\u001b[0m     C_unc,\n\u001b[1;32m    357\u001b[0m     X_init\u001b[38;5;241m=\u001b[39mX_unc,\n\u001b[0;32m   (...)\u001b[0m\n\u001b[1;32m    367\u001b[0m     \u001b[38;5;241m*\u001b[39m\u001b[38;5;241m*\u001b[39mkwargs,\n\u001b[1;32m    368\u001b[0m )\n\u001b[1;32m    370\u001b[0m \u001b[38;5;28;01mif\u001b[39;00m S_unc\u001b[38;5;241m.\u001b[39mshape \u001b[38;5;241m!=\u001b[39m outs[\u001b[38;5;124m\"\u001b[39m\u001b[38;5;124mC\u001b[39m\u001b[38;5;124m\"\u001b[39m]\u001b[38;5;241m.\u001b[39mshape:\n",
      "File \u001b[0;32m~/anaconda3/envs/mlfold/lib/python3.8/site-packages/chroma/models/chroma.py:752\u001b[0m, in \u001b[0;36mChroma._init_backbones\u001b[0;34m(self, num_backbones, length_backbones)\u001b[0m\n\u001b[1;32m    750\u001b[0m \u001b[38;5;28;01mdef\u001b[39;00m \u001b[38;5;21m_init_backbones\u001b[39m(\u001b[38;5;28mself\u001b[39m, num_backbones, length_backbones):\n\u001b[1;32m    751\u001b[0m     \u001b[38;5;66;03m# Start with purely alpha backbones\u001b[39;00m\n\u001b[0;32m--> 752\u001b[0m     X \u001b[38;5;241m=\u001b[39m \u001b[43mProteinBackbone\u001b[49m\u001b[43m(\u001b[49m\n\u001b[1;32m    753\u001b[0m \u001b[43m        \u001b[49m\u001b[43mnum_batch\u001b[49m\u001b[38;5;241;43m=\u001b[39;49m\u001b[43mnum_backbones\u001b[49m\u001b[43m,\u001b[49m\n\u001b[1;32m    754\u001b[0m \u001b[43m        \u001b[49m\u001b[43mnum_residues\u001b[49m\u001b[38;5;241;43m=\u001b[39;49m\u001b[38;5;28;43msum\u001b[39;49m\u001b[43m(\u001b[49m\u001b[43mlength_backbones\u001b[49m\u001b[43m)\u001b[49m\u001b[43m,\u001b[49m\n\u001b[1;32m    755\u001b[0m \u001b[43m        \u001b[49m\u001b[43minit_state\u001b[49m\u001b[38;5;241;43m=\u001b[39;49m\u001b[38;5;124;43m\"\u001b[39;49m\u001b[38;5;124;43malpha\u001b[39;49m\u001b[38;5;124;43m\"\u001b[39;49m\u001b[43m,\u001b[49m\n\u001b[1;32m    756\u001b[0m \u001b[43m    \u001b[49m\u001b[43m)\u001b[49m\u001b[43m(\u001b[49m\u001b[43m)\u001b[49m\n\u001b[1;32m    757\u001b[0m     C \u001b[38;5;241m=\u001b[39m torch\u001b[38;5;241m.\u001b[39mcat(\n\u001b[1;32m    758\u001b[0m         [torch\u001b[38;5;241m.\u001b[39mfull([rep], i \u001b[38;5;241m+\u001b[39m \u001b[38;5;241m1\u001b[39m) \u001b[38;5;28;01mfor\u001b[39;00m i, rep \u001b[38;5;129;01min\u001b[39;00m \u001b[38;5;28menumerate\u001b[39m(length_backbones)]\n\u001b[1;32m    759\u001b[0m     )\u001b[38;5;241m.\u001b[39mexpand(X\u001b[38;5;241m.\u001b[39mshape[\u001b[38;5;241m0\u001b[39m], \u001b[38;5;241m-\u001b[39m\u001b[38;5;241m1\u001b[39m)\n\u001b[1;32m    760\u001b[0m     S \u001b[38;5;241m=\u001b[39m torch\u001b[38;5;241m.\u001b[39mzeros_like(C)\n",
      "File \u001b[0;32m~/anaconda3/envs/mlfold/lib/python3.8/site-packages/torch/nn/modules/module.py:1102\u001b[0m, in \u001b[0;36mModule._call_impl\u001b[0;34m(self, *input, **kwargs)\u001b[0m\n\u001b[1;32m   1098\u001b[0m \u001b[38;5;66;03m# If we don't have any hooks, we want to skip the rest of the logic in\u001b[39;00m\n\u001b[1;32m   1099\u001b[0m \u001b[38;5;66;03m# this function, and just call forward.\u001b[39;00m\n\u001b[1;32m   1100\u001b[0m \u001b[38;5;28;01mif\u001b[39;00m \u001b[38;5;129;01mnot\u001b[39;00m (\u001b[38;5;28mself\u001b[39m\u001b[38;5;241m.\u001b[39m_backward_hooks \u001b[38;5;129;01mor\u001b[39;00m \u001b[38;5;28mself\u001b[39m\u001b[38;5;241m.\u001b[39m_forward_hooks \u001b[38;5;129;01mor\u001b[39;00m \u001b[38;5;28mself\u001b[39m\u001b[38;5;241m.\u001b[39m_forward_pre_hooks \u001b[38;5;129;01mor\u001b[39;00m _global_backward_hooks\n\u001b[1;32m   1101\u001b[0m         \u001b[38;5;129;01mor\u001b[39;00m _global_forward_hooks \u001b[38;5;129;01mor\u001b[39;00m _global_forward_pre_hooks):\n\u001b[0;32m-> 1102\u001b[0m     \u001b[38;5;28;01mreturn\u001b[39;00m \u001b[43mforward_call\u001b[49m\u001b[43m(\u001b[49m\u001b[38;5;241;43m*\u001b[39;49m\u001b[38;5;28;43minput\u001b[39;49m\u001b[43m,\u001b[49m\u001b[43m \u001b[49m\u001b[38;5;241;43m*\u001b[39;49m\u001b[38;5;241;43m*\u001b[39;49m\u001b[43mkwargs\u001b[49m\u001b[43m)\u001b[49m\n\u001b[1;32m   1103\u001b[0m \u001b[38;5;66;03m# Do not call functions when jit is used\u001b[39;00m\n\u001b[1;32m   1104\u001b[0m full_backward_hooks, non_full_backward_hooks \u001b[38;5;241m=\u001b[39m [], []\n",
      "File \u001b[0;32m~/anaconda3/envs/mlfold/lib/python3.8/site-packages/chroma/layers/structure/backbone.py:108\u001b[0m, in \u001b[0;36mProteinBackbone.forward\u001b[0;34m(self)\u001b[0m\n\u001b[1;32m    106\u001b[0m \u001b[38;5;28;01mdef\u001b[39;00m \u001b[38;5;21mforward\u001b[39m(\u001b[38;5;28mself\u001b[39m) \u001b[38;5;241m-\u001b[39m\u001b[38;5;241m>\u001b[39m torch\u001b[38;5;241m.\u001b[39mTensor:\n\u001b[1;32m    107\u001b[0m     \u001b[38;5;28;01mif\u001b[39;00m \u001b[38;5;28mself\u001b[39m\u001b[38;5;241m.\u001b[39muse_internal_coords:\n\u001b[0;32m--> 108\u001b[0m         X \u001b[38;5;241m=\u001b[39m \u001b[38;5;28;43mself\u001b[39;49m\u001b[38;5;241;43m.\u001b[39;49m\u001b[43mbackbone_geometry\u001b[49m\u001b[43m(\u001b[49m\u001b[38;5;28;43mself\u001b[39;49m\u001b[38;5;241;43m.\u001b[39;49m\u001b[43mphi\u001b[49m\u001b[43m,\u001b[49m\u001b[43m \u001b[49m\u001b[38;5;28;43mself\u001b[39;49m\u001b[38;5;241;43m.\u001b[39;49m\u001b[43mpsi\u001b[49m\u001b[43m)\u001b[49m\n\u001b[1;32m    109\u001b[0m     \u001b[38;5;28;01melse\u001b[39;00m:\n\u001b[1;32m    110\u001b[0m         X \u001b[38;5;241m=\u001b[39m \u001b[38;5;28mself\u001b[39m\u001b[38;5;241m.\u001b[39mX\n",
      "File \u001b[0;32m~/anaconda3/envs/mlfold/lib/python3.8/site-packages/torch/nn/modules/module.py:1102\u001b[0m, in \u001b[0;36mModule._call_impl\u001b[0;34m(self, *input, **kwargs)\u001b[0m\n\u001b[1;32m   1098\u001b[0m \u001b[38;5;66;03m# If we don't have any hooks, we want to skip the rest of the logic in\u001b[39;00m\n\u001b[1;32m   1099\u001b[0m \u001b[38;5;66;03m# this function, and just call forward.\u001b[39;00m\n\u001b[1;32m   1100\u001b[0m \u001b[38;5;28;01mif\u001b[39;00m \u001b[38;5;129;01mnot\u001b[39;00m (\u001b[38;5;28mself\u001b[39m\u001b[38;5;241m.\u001b[39m_backward_hooks \u001b[38;5;129;01mor\u001b[39;00m \u001b[38;5;28mself\u001b[39m\u001b[38;5;241m.\u001b[39m_forward_hooks \u001b[38;5;129;01mor\u001b[39;00m \u001b[38;5;28mself\u001b[39m\u001b[38;5;241m.\u001b[39m_forward_pre_hooks \u001b[38;5;129;01mor\u001b[39;00m _global_backward_hooks\n\u001b[1;32m   1101\u001b[0m         \u001b[38;5;129;01mor\u001b[39;00m _global_forward_hooks \u001b[38;5;129;01mor\u001b[39;00m _global_forward_pre_hooks):\n\u001b[0;32m-> 1102\u001b[0m     \u001b[38;5;28;01mreturn\u001b[39;00m \u001b[43mforward_call\u001b[49m\u001b[43m(\u001b[49m\u001b[38;5;241;43m*\u001b[39;49m\u001b[38;5;28;43minput\u001b[39;49m\u001b[43m,\u001b[49m\u001b[43m \u001b[49m\u001b[38;5;241;43m*\u001b[39;49m\u001b[38;5;241;43m*\u001b[39;49m\u001b[43mkwargs\u001b[49m\u001b[43m)\u001b[49m\n\u001b[1;32m   1103\u001b[0m \u001b[38;5;66;03m# Do not call functions when jit is used\u001b[39;00m\n\u001b[1;32m   1104\u001b[0m full_backward_hooks, non_full_backward_hooks \u001b[38;5;241m=\u001b[39m [], []\n",
      "File \u001b[0;32m~/anaconda3/envs/mlfold/lib/python3.8/site-packages/chroma/layers/structure/backbone.py:440\u001b[0m, in \u001b[0;36mBackboneBuilder.forward\u001b[0;34m(self, phi, psi, omega, angles, lengths, add_O)\u001b[0m\n\u001b[1;32m    438\u001b[0m X \u001b[38;5;241m=\u001b[39m []\n\u001b[1;32m    439\u001b[0m \u001b[38;5;28;01mfor\u001b[39;00m i, (v_i, l_i) \u001b[38;5;129;01min\u001b[39;00m \u001b[38;5;28menumerate\u001b[39m(\u001b[38;5;28mzip\u001b[39m(v_list, lengths_list)):\n\u001b[0;32m--> 440\u001b[0m     x_i, u_i_minus_1, u_i_minus_2 \u001b[38;5;241m=\u001b[39m \u001b[43m_build_x_i\u001b[49m\u001b[43m(\u001b[49m\n\u001b[1;32m    441\u001b[0m \u001b[43m        \u001b[49m\u001b[43mv_i\u001b[49m\u001b[43m,\u001b[49m\u001b[43m \u001b[49m\u001b[43ml_i\u001b[49m\u001b[43m,\u001b[49m\u001b[43m \u001b[49m\u001b[43mx_i\u001b[49m\u001b[43m,\u001b[49m\u001b[43m \u001b[49m\u001b[43mu_i_minus_1\u001b[49m\u001b[43m,\u001b[49m\u001b[43m \u001b[49m\u001b[43mu_i_minus_2\u001b[49m\n\u001b[1;32m    442\u001b[0m \u001b[43m    \u001b[49m\u001b[43m)\u001b[49m\n\u001b[1;32m    443\u001b[0m     X\u001b[38;5;241m.\u001b[39mappend(x_i)\n\u001b[1;32m    444\u001b[0m X \u001b[38;5;241m=\u001b[39m torch\u001b[38;5;241m.\u001b[39mstack(X, \u001b[38;5;241m1\u001b[39m)\n",
      "File \u001b[0;32m~/anaconda3/envs/mlfold/lib/python3.8/site-packages/chroma/layers/structure/backbone.py:423\u001b[0m, in \u001b[0;36mBackboneBuilder.forward.<locals>._build_x_i\u001b[0;34m(v_i, l_i, x, u_minus_1, u_minus_2)\u001b[0m\n\u001b[1;32m    421\u001b[0m \u001b[38;5;66;03m# Matrix multiply version\u001b[39;00m\n\u001b[1;32m    422\u001b[0m R \u001b[38;5;241m=\u001b[39m torch\u001b[38;5;241m.\u001b[39mstack([u_minus_1, n_b, n_a], \u001b[38;5;241m2\u001b[39m)\n\u001b[0;32m--> 423\u001b[0m u_new \u001b[38;5;241m=\u001b[39m \u001b[43mtorch\u001b[49m\u001b[38;5;241;43m.\u001b[39;49m\u001b[43mmatmul\u001b[49m\u001b[43m(\u001b[49m\u001b[43mR\u001b[49m\u001b[43m,\u001b[49m\u001b[43m \u001b[49m\u001b[43mv_i\u001b[49m\u001b[38;5;241;43m.\u001b[39;49m\u001b[43munsqueeze\u001b[49m\u001b[43m(\u001b[49m\u001b[38;5;241;43m-\u001b[39;49m\u001b[38;5;241;43m1\u001b[39;49m\u001b[43m)\u001b[49m\u001b[43m)\u001b[49m\u001b[38;5;241m.\u001b[39msqueeze(\u001b[38;5;241m-\u001b[39m\u001b[38;5;241m1\u001b[39m)\n\u001b[1;32m    425\u001b[0m x_new \u001b[38;5;241m=\u001b[39m x \u001b[38;5;241m+\u001b[39m l_i \u001b[38;5;241m*\u001b[39m u_new\n\u001b[1;32m    426\u001b[0m \u001b[38;5;28;01mreturn\u001b[39;00m x_new, u_new, u_minus_1\n",
      "\u001b[0;31mRuntimeError\u001b[0m: expected scalar type Float but found Double"
     ]
    }
   ],
   "source": [
    "# @title Get a protein! <a name=\"unconditional-chain\"></a> {display-mode: \"form\"}\n",
    "\n",
    "# @markdown Specify the desired length. Chroma will output a fully designed single chain protein.\n",
    "# @markdown As with all examples in this notebook, the trajectory can also be downloaded.\n",
    "\n",
    "length = 160  # @param {type:\"slider\", min:50, max:250, step:10}\n",
    "\n",
    "protein, trajectories = chroma.sample(\n",
    "    chain_lengths=[length], steps=200, full_output=True\n",
    ")\n",
    "render(protein, trajectories, output=\"protein.cif\")"
   ]
  },
  {
   "cell_type": "markdown",
   "metadata": {
    "id": "14AUlQHIxPle"
   },
   "source": [
    "## Conditional generation\n",
    "\n",
    "After running the setup at the top of the notebook, all examples are completely independent.\n",
    "\n",
    "[Single chain](#unconditional-chain): the simplest example of protein generation with Chroma.\n",
    "\n",
    "[Complex](#unconditional-complex): a protein with multiple chains.\n",
    "\n",
    "[Symmetry](#symmetry): a symmetric complex, where the symmetry group and subunit size can be input by the user.\n",
    "\n",
    "[Substructure](#substructure): infilling a PDB structure, where the residues to design can be specified by a PyMOL-style string.\n",
    "\n",
    "[Shape](#shape): Chroma generation conditioned on shape, using letters as an example.\n",
    "\n",
    "[Topology](#proclass-chain): chain-level conditioning using ProClass, where a CAT code can be specified.\n",
    "\n",
    "[Secondary structure](#proclass-residue): ProClass also provides conditioning of secondary structure, which can be input as a per-residue string.\n",
    "\n",
    "[Natural language](#procap): ProCap takes a user caption in order to condition Chroma generation.\n",
    "\n"
   ]
  },
  {
   "cell_type": "code",
   "execution_count": null,
   "metadata": {
    "id": "KLbZia40CQhK"
   },
   "outputs": [],
   "source": [
    "# @title Complexes <a name=\"unconditional-complex\"></a> {display-mode: \"form\"}\n",
    "\n",
    "# @markdown Given the lengths of individual chains, Chroma can generate a complex.\n",
    "\n",
    "chain1_length = 400  # @param {type:\"slider\", min:100, max:500, step:10}\n",
    "chain2_length = 100  # @param {type:\"slider\", min:0, max:200, step:10}\n",
    "chain3_length = 100  # @param {type:\"slider\", min:0, max:200, step:10}\n",
    "chain4_length = 100  # @param {type:\"slider\", min:0, max:200, step:10}\n",
    "\n",
    "protein, trajectories = chroma.sample(\n",
    "    chain_lengths=[chain1_length, chain2_length, chain3_length, chain4_length],\n",
    "    steps=200,\n",
    "    full_output=True,\n",
    ")\n",
    "render(protein, trajectories, output=\"complex.cif\")"
   ]
  },
  {
   "cell_type": "code",
   "execution_count": null,
   "metadata": {
    "id": "7FpA3VzWWTM_"
   },
   "outputs": [],
   "source": [
    "# @title Symmetry <a name=\"symmetry\"></a> {display-mode: \"form\"}\n",
    "\n",
    "# @markdown Specify the desired symmetry type and the size of a single subunit.\n",
    "\n",
    "symmetry_group = \"C_7\"  # @param [\"C_2\", \"C_3\", \"C_4\", \"C_5\", \"C_6\", \"C_7\", \"C_8\", \"D_2\", \"D_3\", \"D_4\", \"D_5\", \"D_6\", \"D_7\", \"D_8\", \"T\", \"O\", \"I\"]\n",
    "subunit_size = 100  # @param {type:\"slider\", min:10, max:150, step:5}\n",
    "knbr = 2\n",
    "\n",
    "conditioner = conditioners.SymmetryConditioner(\n",
    "    G=symmetry_group, num_chain_neighbors=knbr\n",
    ")\n",
    "symmetric_protein, trajectories = chroma.sample(\n",
    "    chain_lengths=[subunit_size],\n",
    "    conditioner=conditioner,\n",
    "    langevin_factor=8,\n",
    "    inverse_temperature=8,\n",
    "    sde_func=\"langevin\",\n",
    "    potts_symmetry_order=conditioner.potts_symmetry_order,\n",
    "    full_output=True,\n",
    ")\n",
    "render(symmetric_protein, trajectories, output=\"symmetric_protein.cif\")"
   ]
  },
  {
   "cell_type": "code",
   "execution_count": 3,
   "metadata": {
    "id": "BCTxghg19meL"
   },
   "outputs": [
    {
     "name": "stdout",
     "output_type": "stream",
     "text": [
      "Split protein by plane, masking 52.38 percent of residues.\n",
      "Error initializing conditioner! Falling back to masking 50% of residues.\n"
     ]
    },
    {
     "ename": "RuntimeError",
     "evalue": "expected scalar type Double but found Float",
     "output_type": "error",
     "traceback": [
      "\u001b[0;31m---------------------------------------------------------------------------\u001b[0m",
      "\u001b[0;31mRuntimeError\u001b[0m                              Traceback (most recent call last)",
      "Cell \u001b[0;32mIn[3], line 23\u001b[0m\n\u001b[1;32m     22\u001b[0m \u001b[38;5;28;01mtry\u001b[39;00m:\n\u001b[0;32m---> 23\u001b[0m     conditioner \u001b[38;5;241m=\u001b[39m \u001b[43mconditioners\u001b[49m\u001b[38;5;241;43m.\u001b[39;49m\u001b[43mSubstructureConditioner\u001b[49m\u001b[43m(\u001b[49m\n\u001b[1;32m     24\u001b[0m \u001b[43m        \u001b[49m\u001b[43mprotein\u001b[49m\u001b[43m,\u001b[49m\u001b[43m \u001b[49m\u001b[43mbackbone_model\u001b[49m\u001b[38;5;241;43m=\u001b[39;49m\u001b[43mchroma\u001b[49m\u001b[38;5;241;43m.\u001b[39;49m\u001b[43mbackbone_network\u001b[49m\u001b[43m,\u001b[49m\u001b[43m \u001b[49m\u001b[43mselection\u001b[49m\u001b[38;5;241;43m=\u001b[39;49m\u001b[43mselection_string\u001b[49m\n\u001b[1;32m     25\u001b[0m \u001b[43m    \u001b[49m\u001b[43m)\u001b[49m\u001b[38;5;241m.\u001b[39mto(device)\n\u001b[1;32m     26\u001b[0m \u001b[38;5;28;01mexcept\u001b[39;00m \u001b[38;5;167;01mException\u001b[39;00m:\n",
      "File \u001b[0;32m~/anaconda3/envs/mlfold/lib/python3.8/site-packages/chroma/layers/structure/conditioners.py:881\u001b[0m, in \u001b[0;36mSubstructureConditioner.__init__\u001b[0;34m(self, protein, backbone_model, selection, rg, weight, tspan, weight_max, gamma, center_init)\u001b[0m\n\u001b[1;32m    880\u001b[0m \u001b[38;5;28mself\u001b[39m\u001b[38;5;241m.\u001b[39mnoise_schedule \u001b[38;5;241m=\u001b[39m \u001b[38;5;28mself\u001b[39m\u001b[38;5;241m.\u001b[39mbackbone_model\u001b[38;5;241m.\u001b[39mnoise_perturb\u001b[38;5;241m.\u001b[39mnoise_schedule\n\u001b[0;32m--> 881\u001b[0m \u001b[38;5;28mself\u001b[39m\u001b[38;5;241m.\u001b[39mconditional_distribution \u001b[38;5;241m=\u001b[39m \u001b[43mmvn\u001b[49m\u001b[38;5;241;43m.\u001b[39;49m\u001b[43mConditionalBackboneMVNGlobular\u001b[49m\u001b[43m(\u001b[49m\n\u001b[1;32m    882\u001b[0m \u001b[43m    \u001b[49m\u001b[43mcovariance_model\u001b[49m\u001b[38;5;241;43m=\u001b[39;49m\u001b[38;5;28;43mself\u001b[39;49m\u001b[38;5;241;43m.\u001b[39;49m\u001b[43mbase_distribution\u001b[49m\u001b[38;5;241;43m.\u001b[39;49m\u001b[43mcovariance_model\u001b[49m\u001b[43m,\u001b[49m\n\u001b[1;32m    883\u001b[0m \u001b[43m    \u001b[49m\u001b[43mcomplex_scaling\u001b[49m\u001b[38;5;241;43m=\u001b[39;49m\u001b[38;5;28;43mself\u001b[39;49m\u001b[38;5;241;43m.\u001b[39;49m\u001b[43mbase_distribution\u001b[49m\u001b[38;5;241;43m.\u001b[39;49m\u001b[43mcomplex_scaling\u001b[49m\u001b[43m,\u001b[49m\n\u001b[1;32m    884\u001b[0m \u001b[43m    \u001b[49m\u001b[43mX\u001b[49m\u001b[38;5;241;43m=\u001b[39;49m\u001b[43mX\u001b[49m\u001b[43m,\u001b[49m\n\u001b[1;32m    885\u001b[0m \u001b[43m    \u001b[49m\u001b[43mC\u001b[49m\u001b[38;5;241;43m=\u001b[39;49m\u001b[43mC\u001b[49m\u001b[43m,\u001b[49m\n\u001b[1;32m    886\u001b[0m \u001b[43m    \u001b[49m\u001b[43mD\u001b[49m\u001b[38;5;241;43m=\u001b[39;49m\u001b[43mD\u001b[49m\u001b[43m,\u001b[49m\n\u001b[1;32m    887\u001b[0m \u001b[43m    \u001b[49m\u001b[43mgamma\u001b[49m\u001b[38;5;241;43m=\u001b[39;49m\u001b[43mgamma\u001b[49m\u001b[43m,\u001b[49m\n\u001b[1;32m    888\u001b[0m \u001b[43m\u001b[49m\u001b[43m)\u001b[49m\n\u001b[1;32m    889\u001b[0m X \u001b[38;5;241m=\u001b[39m \u001b[38;5;28mself\u001b[39m\u001b[38;5;241m.\u001b[39mconditional_distribution\u001b[38;5;241m.\u001b[39msample(\u001b[38;5;241m1\u001b[39m)\n",
      "File \u001b[0;32m~/anaconda3/envs/mlfold/lib/python3.8/site-packages/chroma/layers/structure/mvn.py:559\u001b[0m, in \u001b[0;36mConditionalBackboneMVNGlobular.__init__\u001b[0;34m(self, covariance_model, complex_scaling, sigma_translation, X, C, D, gamma, **kwargs)\u001b[0m\n\u001b[1;32m    558\u001b[0m \u001b[38;5;28mself\u001b[39m\u001b[38;5;241m.\u001b[39m_check_C(\u001b[38;5;28mself\u001b[39m\u001b[38;5;241m.\u001b[39mC\u001b[38;5;241m.\u001b[39mabs())\n\u001b[0;32m--> 559\u001b[0m R, RRt \u001b[38;5;241m=\u001b[39m \u001b[38;5;28;43mself\u001b[39;49m\u001b[38;5;241;43m.\u001b[39;49m\u001b[43m_materialize_RRt\u001b[49m\u001b[43m(\u001b[49m\u001b[38;5;28;43mself\u001b[39;49m\u001b[38;5;241;43m.\u001b[39;49m\u001b[43mC\u001b[49m\u001b[43m)\u001b[49m\n\u001b[1;32m    560\u001b[0m \u001b[38;5;28mself\u001b[39m\u001b[38;5;241m.\u001b[39mregister_buffer(\u001b[38;5;124m\"\u001b[39m\u001b[38;5;124mR\u001b[39m\u001b[38;5;124m\"\u001b[39m, R)\n",
      "File \u001b[0;32m~/anaconda3/envs/mlfold/lib/python3.8/site-packages/chroma/layers/structure/mvn.py:648\u001b[0m, in \u001b[0;36mConditionalBackboneMVNGlobular._materialize_RRt\u001b[0;34m(self, C)\u001b[0m\n\u001b[1;32m    646\u001b[0m R_init \u001b[38;5;241m=\u001b[39m \u001b[38;5;28mself\u001b[39m\u001b[38;5;241m.\u001b[39m_build_R_init(C_atom, b)\n\u001b[0;32m--> 648\u001b[0m R \u001b[38;5;241m=\u001b[39m \u001b[43ma\u001b[49m\u001b[43m \u001b[49m\u001b[38;5;241;43m*\u001b[39;49m\u001b[43m \u001b[49m\u001b[43mR_center\u001b[49m\u001b[43m \u001b[49m\u001b[38;5;241;43m@\u001b[39;49m\u001b[43m \u001b[49m\u001b[43mR_sum\u001b[49m \u001b[38;5;241m@\u001b[39m R_init\n\u001b[1;32m    649\u001b[0m RRt \u001b[38;5;241m=\u001b[39m R \u001b[38;5;241m@\u001b[39m R\u001b[38;5;241m.\u001b[39mt()\n",
      "\u001b[0;31mRuntimeError\u001b[0m: expected scalar type Double but found Float",
      "\nDuring handling of the above exception, another exception occurred:\n",
      "\u001b[0;31mRuntimeError\u001b[0m                              Traceback (most recent call last)",
      "Cell \u001b[0;32mIn[3], line 29\u001b[0m\n\u001b[1;32m     27\u001b[0m     \u001b[38;5;28mprint\u001b[39m(\u001b[38;5;124m\"\u001b[39m\u001b[38;5;124mError initializing conditioner! Falling back to masking 50\u001b[39m\u001b[38;5;132;01m% o\u001b[39;00m\u001b[38;5;124mf residues.\u001b[39m\u001b[38;5;124m\"\u001b[39m)\n\u001b[1;32m     28\u001b[0m     selection_string \u001b[38;5;241m=\u001b[39m \u001b[38;5;124m\"\u001b[39m\u001b[38;5;124mnamesel infilling_selection\u001b[39m\u001b[38;5;124m\"\u001b[39m\n\u001b[0;32m---> 29\u001b[0m     conditioner \u001b[38;5;241m=\u001b[39m \u001b[43mconditioners\u001b[49m\u001b[38;5;241;43m.\u001b[39;49m\u001b[43mSubstructureConditioner\u001b[49m\u001b[43m(\u001b[49m\n\u001b[1;32m     30\u001b[0m \u001b[43m        \u001b[49m\u001b[43mprotein\u001b[49m\u001b[43m,\u001b[49m\n\u001b[1;32m     31\u001b[0m \u001b[43m        \u001b[49m\u001b[43mbackbone_model\u001b[49m\u001b[38;5;241;43m=\u001b[39;49m\u001b[43mchroma\u001b[49m\u001b[38;5;241;43m.\u001b[39;49m\u001b[43mbackbone_network\u001b[49m\u001b[43m,\u001b[49m\n\u001b[1;32m     32\u001b[0m \u001b[43m        \u001b[49m\u001b[43mselection\u001b[49m\u001b[38;5;241;43m=\u001b[39;49m\u001b[43mselection_string\u001b[49m\u001b[43m,\u001b[49m\n\u001b[1;32m     33\u001b[0m \u001b[43m        \u001b[49m\u001b[43mrg\u001b[49m\u001b[38;5;241;43m=\u001b[39;49m\u001b[38;5;28;43;01mTrue\u001b[39;49;00m\u001b[43m,\u001b[49m\n\u001b[1;32m     34\u001b[0m \u001b[43m    \u001b[49m\u001b[43m)\u001b[49m\u001b[38;5;241m.\u001b[39mto(device)\n\u001b[1;32m     36\u001b[0m infilled_protein, trajectories \u001b[38;5;241m=\u001b[39m chroma\u001b[38;5;241m.\u001b[39msample(\n\u001b[1;32m     37\u001b[0m     protein_init\u001b[38;5;241m=\u001b[39mprotein,\n\u001b[1;32m     38\u001b[0m     conditioner\u001b[38;5;241m=\u001b[39mconditioner,\n\u001b[0;32m   (...)\u001b[0m\n\u001b[1;32m     44\u001b[0m     full_output\u001b[38;5;241m=\u001b[39m\u001b[38;5;28;01mTrue\u001b[39;00m,\n\u001b[1;32m     45\u001b[0m )\n\u001b[1;32m     46\u001b[0m render(infilled_protein, trajectories, output\u001b[38;5;241m=\u001b[39m\u001b[38;5;124m\"\u001b[39m\u001b[38;5;124minfilled_protein.cif\u001b[39m\u001b[38;5;124m\"\u001b[39m)\n",
      "File \u001b[0;32m~/anaconda3/envs/mlfold/lib/python3.8/site-packages/chroma/layers/structure/conditioners.py:881\u001b[0m, in \u001b[0;36mSubstructureConditioner.__init__\u001b[0;34m(self, protein, backbone_model, selection, rg, weight, tspan, weight_max, gamma, center_init)\u001b[0m\n\u001b[1;32m    879\u001b[0m \u001b[38;5;28mself\u001b[39m\u001b[38;5;241m.\u001b[39mbase_distribution \u001b[38;5;241m=\u001b[39m \u001b[38;5;28mself\u001b[39m\u001b[38;5;241m.\u001b[39mbackbone_model\u001b[38;5;241m.\u001b[39mnoise_perturb\u001b[38;5;241m.\u001b[39mbase_gaussian\n\u001b[1;32m    880\u001b[0m \u001b[38;5;28mself\u001b[39m\u001b[38;5;241m.\u001b[39mnoise_schedule \u001b[38;5;241m=\u001b[39m \u001b[38;5;28mself\u001b[39m\u001b[38;5;241m.\u001b[39mbackbone_model\u001b[38;5;241m.\u001b[39mnoise_perturb\u001b[38;5;241m.\u001b[39mnoise_schedule\n\u001b[0;32m--> 881\u001b[0m \u001b[38;5;28mself\u001b[39m\u001b[38;5;241m.\u001b[39mconditional_distribution \u001b[38;5;241m=\u001b[39m \u001b[43mmvn\u001b[49m\u001b[38;5;241;43m.\u001b[39;49m\u001b[43mConditionalBackboneMVNGlobular\u001b[49m\u001b[43m(\u001b[49m\n\u001b[1;32m    882\u001b[0m \u001b[43m    \u001b[49m\u001b[43mcovariance_model\u001b[49m\u001b[38;5;241;43m=\u001b[39;49m\u001b[38;5;28;43mself\u001b[39;49m\u001b[38;5;241;43m.\u001b[39;49m\u001b[43mbase_distribution\u001b[49m\u001b[38;5;241;43m.\u001b[39;49m\u001b[43mcovariance_model\u001b[49m\u001b[43m,\u001b[49m\n\u001b[1;32m    883\u001b[0m \u001b[43m    \u001b[49m\u001b[43mcomplex_scaling\u001b[49m\u001b[38;5;241;43m=\u001b[39;49m\u001b[38;5;28;43mself\u001b[39;49m\u001b[38;5;241;43m.\u001b[39;49m\u001b[43mbase_distribution\u001b[49m\u001b[38;5;241;43m.\u001b[39;49m\u001b[43mcomplex_scaling\u001b[49m\u001b[43m,\u001b[49m\n\u001b[1;32m    884\u001b[0m \u001b[43m    \u001b[49m\u001b[43mX\u001b[49m\u001b[38;5;241;43m=\u001b[39;49m\u001b[43mX\u001b[49m\u001b[43m,\u001b[49m\n\u001b[1;32m    885\u001b[0m \u001b[43m    \u001b[49m\u001b[43mC\u001b[49m\u001b[38;5;241;43m=\u001b[39;49m\u001b[43mC\u001b[49m\u001b[43m,\u001b[49m\n\u001b[1;32m    886\u001b[0m \u001b[43m    \u001b[49m\u001b[43mD\u001b[49m\u001b[38;5;241;43m=\u001b[39;49m\u001b[43mD\u001b[49m\u001b[43m,\u001b[49m\n\u001b[1;32m    887\u001b[0m \u001b[43m    \u001b[49m\u001b[43mgamma\u001b[49m\u001b[38;5;241;43m=\u001b[39;49m\u001b[43mgamma\u001b[49m\u001b[43m,\u001b[49m\n\u001b[1;32m    888\u001b[0m \u001b[43m\u001b[49m\u001b[43m)\u001b[49m\n\u001b[1;32m    889\u001b[0m X \u001b[38;5;241m=\u001b[39m \u001b[38;5;28mself\u001b[39m\u001b[38;5;241m.\u001b[39mconditional_distribution\u001b[38;5;241m.\u001b[39msample(\u001b[38;5;241m1\u001b[39m)\n\u001b[1;32m    890\u001b[0m \u001b[38;5;28mself\u001b[39m\u001b[38;5;241m.\u001b[39mtspan \u001b[38;5;241m=\u001b[39m tspan\n",
      "File \u001b[0;32m~/anaconda3/envs/mlfold/lib/python3.8/site-packages/chroma/layers/structure/mvn.py:559\u001b[0m, in \u001b[0;36mConditionalBackboneMVNGlobular.__init__\u001b[0;34m(self, covariance_model, complex_scaling, sigma_translation, X, C, D, gamma, **kwargs)\u001b[0m\n\u001b[1;32m    556\u001b[0m \u001b[38;5;28mself\u001b[39m\u001b[38;5;241m.\u001b[39mregister_buffer(\u001b[38;5;124m\"\u001b[39m\u001b[38;5;124mD\u001b[39m\u001b[38;5;124m\"\u001b[39m, D\u001b[38;5;241m.\u001b[39mfloat())\n\u001b[1;32m    558\u001b[0m \u001b[38;5;28mself\u001b[39m\u001b[38;5;241m.\u001b[39m_check_C(\u001b[38;5;28mself\u001b[39m\u001b[38;5;241m.\u001b[39mC\u001b[38;5;241m.\u001b[39mabs())\n\u001b[0;32m--> 559\u001b[0m R, RRt \u001b[38;5;241m=\u001b[39m \u001b[38;5;28;43mself\u001b[39;49m\u001b[38;5;241;43m.\u001b[39;49m\u001b[43m_materialize_RRt\u001b[49m\u001b[43m(\u001b[49m\u001b[38;5;28;43mself\u001b[39;49m\u001b[38;5;241;43m.\u001b[39;49m\u001b[43mC\u001b[49m\u001b[43m)\u001b[49m\n\u001b[1;32m    560\u001b[0m \u001b[38;5;28mself\u001b[39m\u001b[38;5;241m.\u001b[39mregister_buffer(\u001b[38;5;124m\"\u001b[39m\u001b[38;5;124mR\u001b[39m\u001b[38;5;124m\"\u001b[39m, R)\n\u001b[1;32m    561\u001b[0m \u001b[38;5;28mself\u001b[39m\u001b[38;5;241m.\u001b[39mregister_buffer(\u001b[38;5;124m\"\u001b[39m\u001b[38;5;124mRRt\u001b[39m\u001b[38;5;124m\"\u001b[39m, RRt)\n",
      "File \u001b[0;32m~/anaconda3/envs/mlfold/lib/python3.8/site-packages/chroma/layers/structure/mvn.py:648\u001b[0m, in \u001b[0;36mConditionalBackboneMVNGlobular._materialize_RRt\u001b[0;34m(self, C)\u001b[0m\n\u001b[1;32m    645\u001b[0m R_sum \u001b[38;5;241m=\u001b[39m \u001b[38;5;28mself\u001b[39m\u001b[38;5;241m.\u001b[39m_build_R_sum(C_atom, b)\n\u001b[1;32m    646\u001b[0m R_init \u001b[38;5;241m=\u001b[39m \u001b[38;5;28mself\u001b[39m\u001b[38;5;241m.\u001b[39m_build_R_init(C_atom, b)\n\u001b[0;32m--> 648\u001b[0m R \u001b[38;5;241m=\u001b[39m \u001b[43ma\u001b[49m\u001b[43m \u001b[49m\u001b[38;5;241;43m*\u001b[39;49m\u001b[43m \u001b[49m\u001b[43mR_center\u001b[49m\u001b[43m \u001b[49m\u001b[38;5;241;43m@\u001b[39;49m\u001b[43m \u001b[49m\u001b[43mR_sum\u001b[49m \u001b[38;5;241m@\u001b[39m R_init\n\u001b[1;32m    649\u001b[0m RRt \u001b[38;5;241m=\u001b[39m R \u001b[38;5;241m@\u001b[39m R\u001b[38;5;241m.\u001b[39mt()\n\u001b[1;32m    650\u001b[0m \u001b[38;5;28;01mreturn\u001b[39;00m R, RRt\n",
      "\u001b[0;31mRuntimeError\u001b[0m: expected scalar type Double but found Float"
     ]
    }
   ],
   "source": [
    "# @title Substructure <a name=\"substructure\"></a> {display-mode: \"form\"}\n",
    "\n",
    "# @markdown Enter a PDB ID and a selection string corresponding to designable positions.\n",
    "# @markdown Using a substructure conditioner, Chroma can design at these positions while holding the rest of the structure fixed.\n",
    "# @markdown The default selection cuts the protein in half and fills it in.\n",
    "# @markdown Other selections, by position or proximity, are also allowed.\n",
    "\n",
    "pdb_id = \"5SV5\"  # @param ['5SV5', '6QAZ', '3BDI'] {allow-input:true}\n",
    "\n",
    "try:\n",
    "    protein = Protein.from_PDBID(pdb_id, canonicalize=True, device=device)\n",
    "except FileNotFoundError:\n",
    "    print(\"Invalid PDB ID! Using 3BDI\")\n",
    "    pdb_id = \"3BDI\"\n",
    "    protein = Protein.from_PDBID(pdb_id, canonicalize=True, device=device)\n",
    "\n",
    "X, C, _ = protein.to_XCS()\n",
    "selection_string = \"namesel infilling_selection\"  # @param ['namesel infilling_selection', 'z > 16', '(resid 50) around 10'] {allow-input:true}\n",
    "residues_to_design = plane_split_protein(X, C, protein, 0.5).nonzero()[:, 1].tolist()\n",
    "protein.sys.save_selection(gti=residues_to_design, selname=\"infilling_selection\")\n",
    "\n",
    "try:\n",
    "    conditioner = conditioners.SubstructureConditioner(\n",
    "        protein, backbone_model=chroma.backbone_network, selection=selection_string\n",
    "    ).to(device)\n",
    "except Exception:\n",
    "    print(\"Error initializing conditioner! Falling back to masking 50% of residues.\")\n",
    "    selection_string = \"namesel infilling_selection\"\n",
    "    conditioner = conditioners.SubstructureConditioner(\n",
    "        protein,\n",
    "        backbone_model=chroma.backbone_network,\n",
    "        selection=selection_string,\n",
    "        rg=True,\n",
    "    ).to(device)\n",
    "\n",
    "infilled_protein, trajectories = chroma.sample(\n",
    "    protein_init=protein,\n",
    "    conditioner=conditioner,\n",
    "    langevin_factor=4.0,\n",
    "    langevin_isothermal=True,\n",
    "    inverse_temperature=8.0,\n",
    "    steps=500,\n",
    "    sde_func=\"langevin\",\n",
    "    full_output=True,\n",
    ")\n",
    "render(infilled_protein, trajectories, output=\"infilled_protein.cif\")"
   ]
  },
  {
   "cell_type": "code",
   "execution_count": null,
   "metadata": {
    "id": "h5C-SrJEBqIs"
   },
   "outputs": [],
   "source": [
    "# @title Shape <a name=\"shape\"></a> {display-mode: \"form\"}\n",
    "\n",
    "# @markdown Create a protein in the shape of a desired character of arbitrary length.\n",
    "\n",
    "character = \"G\"  # @param {type:\"string\"}\n",
    "if len(character) > 1:\n",
    "    character = character[:1]\n",
    "    print(f\"Keeping only first character ({character})!\")\n",
    "length = 1000  # @param {type:\"slider\", min:100, max:1500, step:100}\n",
    "\n",
    "letter_point_cloud = letter_to_point_cloud(character)\n",
    "conditioner = conditioners.ShapeConditioner(\n",
    "    letter_point_cloud,\n",
    "    chroma.backbone_network.noise_schedule,\n",
    "    autoscale_num_residues=length,\n",
    ").to(device)\n",
    "\n",
    "shaped_protein, trajectories = chroma.sample(\n",
    "    chain_lengths=[length], conditioner=conditioner, full_output=True\n",
    ")\n",
    "\n",
    "render(shaped_protein, trajectories, output=\"shaped_protein.cif\")"
   ]
  },
  {
   "cell_type": "code",
   "execution_count": null,
   "metadata": {
    "id": "M-5X_saooA6J"
   },
   "outputs": [],
   "source": [
    "# @title Fold <a name=\"proclass-chain\"></a> {display-mode: \"form\"}\n",
    "\n",
    "# @markdown Input a [CATH number](https://cathdb.info/browse) to get chain-level conditioning, e.g. `3.40.50` for a Rossmann fold or `2` for mainly beta.\n",
    "\n",
    "CATH = \"3.40.50\"  # @param {type:\"string\"}\n",
    "length = 130  # @param {type:\"slider\", min:50, max:250, step:10}\n",
    "\n",
    "proclass_model = graph_classifier.load_model(\"named:public\", device=device)\n",
    "conditioner = conditioners.ProClassConditioner(\"cath\", CATH, model=proclass_model)\n",
    "cath_conditioned_protein, trajectories = chroma.sample(\n",
    "    conditioner=conditioner, chain_lengths=[length], full_output=True\n",
    ")\n",
    "render(cath_conditioned_protein, trajectories, output=\"cath_conditioned_protein.cif\")"
   ]
  },
  {
   "cell_type": "code",
   "execution_count": null,
   "metadata": {
    "id": "A2012-PnoTHf"
   },
   "outputs": [],
   "source": [
    "# @title Secondary structure <a name=\"proclass-residue\"></a> {display-mode: \"form\"}\n",
    "\n",
    "# @markdown Enter a string to specify residue-level secondary structure conditioning: H = helix, E = strand, T = turn.\n",
    "\n",
    "SS = \"HHHHHHHTTTHHHHHHHTTTEEEEEETTTEEEEEEEETTTTHHHHHHHH\"  # @param {type:\"string\"}\n",
    "\n",
    "proclass_model = graph_classifier.load_model(\"named:public\", device=device)\n",
    "conditioner = conditioners.ProClassConditioner(\n",
    "    \"secondary_structure\", SS, max_norm=None, model=proclass_model\n",
    ")\n",
    "ss_conditioned_protein, trajectories = chroma.sample(\n",
    "    steps=500, conditioner=conditioner, chain_lengths=[len(SS)], full_output=True\n",
    ")\n",
    "render(ss_conditioned_protein, trajectories, output=\"ss_conditioned_protein.cif\")"
   ]
  },
  {
   "cell_type": "code",
   "execution_count": null,
   "metadata": {
    "id": "ix41mhyEbLTF"
   },
   "outputs": [],
   "source": [
    "# @title Natural text <a name=\"procap\"></a> {display-mode: \"form\"}\n",
    "\n",
    "# @markdown ProCap uses natural language captions to condition samples.\n",
    "\n",
    "length = 110  # @param {type:\"slider\", min:50, max:250, step:10}\n",
    "caption = \"Crystal structure of SH2 domain\"  # @param {type:\"string\"}\n",
    "\n",
    "procap_model = procap.load_model(\"named:public\", device=device)\n",
    "conditioner = conditioners.ProCapConditioner(caption, -1, model=procap_model)\n",
    "caption_conditioned_protein, trajectories = chroma.sample(\n",
    "    steps=200, chain_lengths=[length], conditioner=conditioner, full_output=True\n",
    ")\n",
    "render(\n",
    "    caption_conditioned_protein, trajectories, output=\"caption_conditioned_protein.cif\"\n",
    ")"
   ]
  }
 ],
 "metadata": {
  "accelerator": "GPU",
  "colab": {
   "gpuType": "T4",
   "provenance": [],
   "toc_visible": true
  },
  "kernelspec": {
   "display_name": "Python 3 (ipykernel)",
   "language": "python",
   "name": "python3"
  },
  "language_info": {
   "codemirror_mode": {
    "name": "ipython",
    "version": 3
   },
   "file_extension": ".py",
   "mimetype": "text/x-python",
   "name": "python",
   "nbconvert_exporter": "python",
   "pygments_lexer": "ipython3",
   "version": "3.8.18"
  }
 },
 "nbformat": 4,
 "nbformat_minor": 1
}
